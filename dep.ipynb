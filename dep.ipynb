{
 "cells": [
  {
   "cell_type": "code",
   "execution_count": null,
   "metadata": {},
   "outputs": [],
   "source": [
    "import hashlib\n",
    "import os\n",
    "from shutil import move\n",
    "from datetime import datetime"
   ]
  },
  {
   "cell_type": "code",
   "execution_count": null,
   "metadata": {},
   "outputs": [],
   "source": [
    "def calculate_md5(filepath):\n",
    "    hash_md5 = hashlib.md5()\n",
    "    with open(filepath, \"rb\") as f:\n",
    "        for chunk in iter(lambda: f.read(4096), b\"\"):\n",
    "            hash_md5.update(chunk)\n",
    "    return hash_md5.hexdigest()\n",
    "\n",
    "def get_file_size(filepath):\n",
    "    return os.path.getsize(filepath)\n",
    "\n",
    "def find_files(directory):\n",
    "    # 检查目录中的所有文件，不限制文件类型\n",
    "    for file in os.listdir(directory):\n",
    "        full_path = os.path.join(directory, file)\n",
    "        if os.path.isfile(full_path):\n",
    "            yield full_path\n",
    "\n",
    "def main(directory, use_md5=True):\n",
    "    files_map = {}\n",
    "    for file_path in find_files(directory):\n",
    "        if use_md5:\n",
    "            file_key = calculate_md5(file_path)\n",
    "        else:\n",
    "            file_key = get_file_size(file_path)\n",
    "\n",
    "        if file_key not in files_map:\n",
    "            files_map[file_key] = []\n",
    "        files_map[file_key].append(file_path)\n",
    "\n",
    "    for key, files in files_map.items():\n",
    "        if len(files) > 1:\n",
    "            print(f\"Duplicate files with key ({'MD5' if use_md5 else 'Size'}: {key}):\")\n",
    "            for f in files:\n",
    "                print(f\"  - {f} (Modified: {os.path.getmtime(f)}, Size: {os.path.getsize(f)} bytes)\")\n",
    "            files.sort(key=lambda x: os.path.getmtime(x), reverse=True)\n",
    "            latest_file = files[0]\n",
    "            for file in files[1:]:\n",
    "                pack_dir = os.path.join(directory, 'pack')\n",
    "                os.makedirs(pack_dir, exist_ok=True)\n",
    "                move(file, os.path.join(pack_dir, os.path.basename(file)))\n",
    "                print(f'Moved {file} to {pack_dir}')\n",
    "\n",
    "if __name__ == \"__main__\":\n",
    "    directory = \"d:\\\\document\\\\WeChat Files\\\\bachopin\\\\FileStorage\\\\File\\\\2024-04\"\n",
    "    use_md5 = 'yes'\n",
    "    main(directory, use_md5)\n"
   ]
  },
  {
   "cell_type": "markdown",
   "metadata": {},
   "source": []
  },
  {
   "cell_type": "code",
   "execution_count": null,
   "metadata": {},
   "outputs": [],
   "source": []
  }
 ],
 "metadata": {
  "kernelspec": {
   "display_name": "base",
   "language": "python",
   "name": "python3"
  },
  "language_info": {
   "codemirror_mode": {
    "name": "ipython",
    "version": 3
   },
   "file_extension": ".py",
   "mimetype": "text/x-python",
   "name": "python",
   "nbconvert_exporter": "python",
   "pygments_lexer": "ipython3",
   "version": "3.11.5"
  }
 },
 "nbformat": 4,
 "nbformat_minor": 2
}
